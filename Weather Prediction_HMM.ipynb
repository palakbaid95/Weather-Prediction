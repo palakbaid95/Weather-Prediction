{
 "cells": [
  {
   "cell_type": "markdown",
   "metadata": {},
   "source": [
    "----------START----------"
   ]
  },
  {
   "cell_type": "code",
   "execution_count": 1,
   "metadata": {},
   "outputs": [],
   "source": [
    "import pandas as pd\n",
    "from pathlib import Path"
   ]
  },
  {
   "cell_type": "code",
   "execution_count": 2,
   "metadata": {},
   "outputs": [],
   "source": [
    "# Set it to None to display all columns in the dataframe\n",
    "pd.set_option('display.max_columns', None)\n",
    "pd.set_option('display.max_rows', None)"
   ]
  },
  {
   "cell_type": "code",
   "execution_count": 3,
   "metadata": {},
   "outputs": [],
   "source": [
    "def read_txt_file_data(path_to_file, filename) -> pd.DataFrame:\n",
    "    \"\"\"Function to read file\"\"\"\n",
    "    data_directory = Path(path_to_file)\n",
    "    file_to_read = data_directory / filename\n",
    "    # data_frame_temp = pd.read_csv(file_to_read)# removes first value in total calculation\n",
    "    data_frame_temp = pd.read_csv(file_to_read, header=None)\n",
    "\n",
    "    return data_frame_temp"
   ]
  },
  {
   "cell_type": "code",
   "execution_count": 4,
   "metadata": {},
   "outputs": [],
   "source": [
    "def get_transition_probability(data_frame: pd.DataFrame):\n",
    "    \"\"\"Calculate the Transition Probabilities\"\"\"\n",
    "    dict_transition_probabilities = {}\n",
    "    for row_index in range(len(data_frame) - 1):\n",
    "        key01 = data_frame.iloc[row_index, 0]\n",
    "        key02 = data_frame.iloc[row_index + 1, 0]\n",
    "        final_key = f\"{key01}_{key02}\"\n",
    "        dict_transition_probabilities[final_key] = dict_transition_probabilities.get(final_key, 0) + 1\n",
    "\n",
    "    my_dictionary_of_keys = {}\n",
    "    for key in dict_transition_probabilities.keys():\n",
    "        temp_key = key.split(\"_\")[0]\n",
    "        my_dictionary_of_keys[temp_key] = my_dictionary_of_keys.get(temp_key, 0) + dict_transition_probabilities.get(\n",
    "            key)\n",
    "\n",
    "    for key in dict_transition_probabilities.keys():\n",
    "        temp_key = key.split(\"_\")[0]\n",
    "        dict_transition_probabilities[key] = round(\n",
    "            dict_transition_probabilities[key] / my_dictionary_of_keys.get(temp_key), 4)\n",
    "\n",
    "    return dict_transition_probabilities"
   ]
  },
  {
   "cell_type": "code",
   "execution_count": 5,
   "metadata": {},
   "outputs": [],
   "source": [
    "def get_emission_probability(data_frame: pd.DataFrame):\n",
    "    \"\"\"Calculate the Emission Probabilities\"\"\"\n",
    "    dict_emission_probabilities = {}\n",
    "    for row_index in range(len(data_frame)):\n",
    "        key01 = data_frame.iloc[row_index, 0]\n",
    "        key02 = data_frame.iloc[row_index, 1]\n",
    "        final_key = f\"{key01}_{key02}\"\n",
    "        dict_emission_probabilities[final_key] = dict_emission_probabilities.get(final_key, 0) + 1\n",
    "\n",
    "    dict_emission_keys = {}\n",
    "    for key in dict_emission_probabilities.keys():\n",
    "        temp_key = key.split(\"_\")[0]\n",
    "        dict_emission_keys[temp_key] = dict_emission_keys.get(temp_key, 0) + dict_emission_probabilities.get(\n",
    "            key)\n",
    "\n",
    "    for key in dict_emission_probabilities.keys():\n",
    "        temp_key = key.split(\"_\")[0]\n",
    "        dict_emission_probabilities[key] = round(dict_emission_probabilities[key] / dict_emission_keys.get(temp_key), 4)\n",
    "\n",
    "    return dict_emission_probabilities"
   ]
  },
  {
   "cell_type": "code",
   "execution_count": 6,
   "metadata": {},
   "outputs": [],
   "source": [
    "def initialize_hmm(initial_sate, row_hidden_states, col_visible_states):\n",
    "    \"\"\"Initialize the HMM Matrix\"\"\"\n",
    "    col_visible_states_length = len(col_visible_states) + 2\n",
    "    row_hidden_states_length = len(row_hidden_states) + 1\n",
    "\n",
    "    hmm_array = [[0 for col in range(col_visible_states_length)] for row in range(row_hidden_states_length)]\n",
    "\n",
    "    for r_index in range(row_hidden_states_length - 1):\n",
    "        hmm_array[r_index + 1][0] = row_hidden_states[r_index]\n",
    "        if (initial_sate == hmm_array[r_index + 1][0]):\n",
    "            hmm_array[r_index + 1][1] = 1\n",
    "\n",
    "    for c_index in range(col_visible_states_length - 2):\n",
    "        hmm_array[0][c_index + 2] = col_visible_states[c_index]\n",
    "\n",
    "    hmm_array[0][1] = \"t=0\"\n",
    "    hmm_array[0][0] = \"states/obs\"\n",
    "    return hmm_array"
   ]
  },
  {
   "cell_type": "code",
   "execution_count": 7,
   "metadata": {},
   "outputs": [],
   "source": [
    "def calculate_initial_probability(data_frame):\n",
    "    total = data_frame.shape[0]\n",
    "    my_map = {}\n",
    "    for row in range(total):\n",
    "        key = data_frame.iloc[row, 0]\n",
    "        my_map[key] = my_map.get(key, 0) + 1\n",
    "\n",
    "    for key in my_map.keys():\n",
    "        my_map[key] = my_map.get(key, 0) / total\n",
    "\n",
    "    return my_map"
   ]
  },
  {
   "cell_type": "code",
   "execution_count": 8,
   "metadata": {},
   "outputs": [],
   "source": [
    "def convert_list_to_data_frame(input_list) -> pd.DataFrame:\n",
    "    df = pd.DataFrame(input_list)\n",
    "    df = df.sort_index(axis=0)\n",
    "    return df"
   ]
  },
  {
   "cell_type": "code",
   "execution_count": 9,
   "metadata": {},
   "outputs": [],
   "source": [
    "def convert_dict_to_data_frame(input_items) -> pd.DataFrame:\n",
    "    df = pd.DataFrame(sorted(input_items))\n",
    "    return df"
   ]
  },
  {
   "cell_type": "code",
   "execution_count": 10,
   "metadata": {},
   "outputs": [],
   "source": [
    "def get_summation_of_transition_probabilities(input_dict, input_transition_map: dict):\n",
    "    \"\"\"Calculating the Probabilities\"\"\"\n",
    "    total = 0\n",
    "    # .10466 * .5019 =\n",
    "    for key in input_dict.keys():\n",
    "        total += round(input_dict.get(key) * input_transition_map.get(key), 5)\n",
    "    return total"
   ]
  },
  {
   "cell_type": "code",
   "execution_count": 11,
   "metadata": {},
   "outputs": [],
   "source": [
    "def do_viterbi(hmm_matrix):\n",
    "    \"\"\"Performing the Viterbi Algorithm\"\"\"\n",
    "    start_row = 1  # row\n",
    "    start_column = 2  # column 2\n",
    "    current_column = start_column\n",
    "    current_row = start_row\n",
    "    out_list = []\n",
    "    for visible_states in hmm_matrix.iloc[0, start_column:]:\n",
    "        path_map = {}\n",
    "        for hidden_states in hmm_matrix.iloc[start_row:, 0]:\n",
    "            path_map[hmm_matrix.iloc[current_row, current_column]] = hidden_states\n",
    "            current_row += 1\n",
    "        current_column += 1\n",
    "        current_row = start_row\n",
    "        out_list.append(path_map.get(not(path_map.keys())))\n",
    "\n",
    "    return out_list"
   ]
  },
  {
   "cell_type": "code",
   "execution_count": 12,
   "metadata": {},
   "outputs": [],
   "source": [
    "def final_emission_calculation(initial_transition_map, alpha_matrix):\n",
    "    temp_dict = {}\n",
    "    for row in range(1, alpha_matrix.shape[0]):\n",
    "        temp_key = alpha_matrix.iloc[row, 0]\n",
    "        value = alpha_matrix.iloc[row, alpha_matrix.shape[1] - 1]\n",
    "        temp_dict.update({temp_key: value})\n",
    "\n",
    "    total = 0\n",
    "    for key in temp_dict.keys():\n",
    "        total += round(temp_dict.get(key) * initial_transition_map.get(key), 6)\n",
    "\n",
    "    return total * 1"
   ]
  },
  {
   "cell_type": "code",
   "execution_count": 13,
   "metadata": {},
   "outputs": [],
   "source": [
    "def calculate_hmm(alpha, emission_probability, transition_probability, visible_states):\n",
    "    start_row = 1  # row\n",
    "    start_column = 2  # column 2\n",
    "\n",
    "    df_alpha = convert_list_to_data_frame(alpha)\n",
    "    df_V = convert_list_to_data_frame(visible_states)\n",
    "\n",
    "    current_column = start_column\n",
    "    current_row = start_row\n",
    "\n",
    "    for visible_states in df_alpha.iloc[0, start_column:]:\n",
    "        for hidden_states in df_alpha.iloc[start_row:, 0]:\n",
    "            emission_key = f\"{hidden_states}_{visible_states}\"\n",
    "\n",
    "            temp_dict = {}\n",
    "            for row in range(1, df_alpha.shape[0]):\n",
    "                temp_key = f\"{df_alpha.iloc[row, 0]}_{hidden_states}\"\n",
    "                temp_dict.update({temp_key: df_alpha.iloc[row, current_column - 1]})\n",
    "\n",
    "            current_aij = get_summation_of_transition_probabilities(temp_dict, transition_probability)\n",
    "            current_bjk = emission_probability.get(emission_key)\n",
    "            df_alpha.iloc[current_row, current_column] = round(current_aij * current_bjk, 5)\n",
    "\n",
    "            current_row += 1\n",
    "        current_column += 1\n",
    "        current_row = start_row\n",
    "    return df_alpha"
   ]
  },
  {
   "cell_type": "code",
   "execution_count": 15,
   "metadata": {},
   "outputs": [
    {
     "name": "stdout",
     "output_type": "stream",
     "text": [
      "=====================================================================================================\n",
      "Observations ['no', 'no', 'no', 'yes', 'no', 'no', 'yes', 'yes', 'no', 'yes']\n",
      "Initial State : sunny\n",
      "=====================================================================================================\n",
      "a_ij(Transition Probability)\n",
      "        foggy   rainy   sunny\n",
      "foggy  0.5019  0.2245  0.1501\n",
      "rainy  0.2912  0.5796  0.0548\n",
      "sunny  0.2069  0.1959  0.7951\n",
      "=====================================================================================================\n",
      "b_jk(Emission Probability)\n",
      "          yes      no\n",
      "foggy  0.3027  0.6973\n",
      "rainy  0.8122  0.1878\n",
      "sunny  0.0850  0.9150\n",
      "=====================================================================================================\n",
      "Final Alpha Matrix:\n",
      "            0    1        2        3        4        5        6        7  \\\n",
      "0  states/obs  t=0       no       no       no      yes       no       no   \n",
      "1       foggy    0  0.10466  0.11439  0.09994  0.03541  0.02326  0.01328   \n",
      "2       rainy    0  0.01029  0.01433  0.01349   0.0489  0.00757  0.00248   \n",
      "3       sunny    1  0.72752  0.55094  0.42504  0.03071  0.03782  0.03327   \n",
      "\n",
      "         8        9       10       11  \n",
      "0      yes      yes       no      yes  \n",
      "1   0.0037  0.00107    0.001  0.00024  \n",
      "2  0.00579  0.00372  0.00047   0.0005  \n",
      "3  0.00252  0.00033  0.00111   0.0001  \n",
      "=====================================================================================================\n",
      "Viterbi Path (most probable path): [None, None, None, None, None, None, None, None, None, None]\n",
      "=====================================================================================================\n",
      "Final emission probability: 0.000234\n"
     ]
    }
   ],
   "source": [
    "training_data_frame = read_txt_file_data(\"F:\\Subjects\\Spring 2020\\Pattern\\Project\\Project 2\", \"Project2Data.txt\")\n",
    "\n",
    "unique_hidden_state_list = list((training_data_frame.iloc[:, 0]).unique())\n",
    "input_visible_states = ['no', 'no', 'no', 'yes', 'no', 'no', 'yes', 'yes', 'no', 'yes']\n",
    "initial_state = \"sunny\"\n",
    "\n",
    "print(\"=====================================================================================================\")\n",
    "print(\"Observations\", input_visible_states)\n",
    "print(\"Initial State :\", initial_state)\n",
    "print(\"=====================================================================================================\")\n",
    "\n",
    "transition_map = get_transition_probability(training_data_frame)\n",
    "emission_map = get_emission_probability(data_frame=training_data_frame)\n",
    "# print(\"Transition Map :\", transition_map)\n",
    "# print(\"Emission Map :\", emission_map)\n",
    "\n",
    "alpha_matrix = initialize_hmm(initial_state, unique_hidden_state_list, input_visible_states)\n",
    "initial_probability_map = calculate_initial_probability(training_data_frame)\n",
    "\n",
    "alpha_matrix = calculate_hmm(alpha=alpha_matrix, emission_probability=emission_map,\n",
    "                             transition_probability=transition_map,\n",
    "                             visible_states=input_visible_states)\n",
    "\n",
    "final_emission_probability = final_emission_calculation(initial_probability_map, alpha_matrix)\n",
    "\n",
    "df_transition = convert_dict_to_data_frame(transition_map.items())\n",
    "print(\"a_ij(Transition Probability)\")\n",
    "# print(df_transition)\n",
    "df_transition_matrix = pd.DataFrame({'foggy': [transition_map.get(\"foggy_foggy\"), transition_map.get(\"foggy_rainy\"), transition_map.get(\"foggy_sunny\")],\n",
    "                   'rainy': [transition_map.get(\"rainy_foggy\"), transition_map.get(\"rainy_rainy\"), transition_map.get(\"rainy_sunny\")],\n",
    "                   'sunny': [transition_map.get(\"sunny_foggy\"), transition_map.get(\"sunny_rainy\"), transition_map.get(\"sunny_sunny\")]},\n",
    "                  index=['foggy', 'rainy', 'sunny'])\n",
    "print(df_transition_matrix)\n",
    "\n",
    "print(\"=====================================================================================================\")\n",
    "\n",
    "df_emission = convert_dict_to_data_frame(emission_map.items())\n",
    "print(\"b_jk(Emission Probability)\")\n",
    "# print(df_emission)\n",
    "df_emission_matrix = pd.DataFrame(\n",
    "                    {'yes': [emission_map.get(\"foggy_yes\"), emission_map.get(\"rainy_yes\"), emission_map.get(\"sunny_yes\")],\n",
    "                   'no': [emission_map.get(\"foggy_no\"), emission_map.get(\"rainy_no\"), emission_map.get(\"sunny_no\")]},\n",
    "                  index=['foggy', 'rainy', 'sunny'])\n",
    "print(df_emission_matrix)\n",
    "\n",
    "viterbi_path = do_viterbi(alpha_matrix)\n",
    "print(\"=====================================================================================================\")\n",
    "print(\"Final Alpha Matrix:\")\n",
    "print(alpha_matrix)\n",
    "print(\"=====================================================================================================\")\n",
    "print(\"Viterbi Path (most probable path):\", viterbi_path)\n",
    "print(\"=====================================================================================================\")\n",
    "print(\"Final emission probability:\", final_emission_probability)"
   ]
  },
  {
   "cell_type": "markdown",
   "metadata": {},
   "source": [
    "----------END----------"
   ]
  }
 ],
 "metadata": {
  "kernelspec": {
   "display_name": "Python 3",
   "language": "python",
   "name": "python3"
  },
  "language_info": {
   "codemirror_mode": {
    "name": "ipython",
    "version": 3
   },
   "file_extension": ".py",
   "mimetype": "text/x-python",
   "name": "python",
   "nbconvert_exporter": "python",
   "pygments_lexer": "ipython3",
   "version": "3.7.4"
  }
 },
 "nbformat": 4,
 "nbformat_minor": 2
}
